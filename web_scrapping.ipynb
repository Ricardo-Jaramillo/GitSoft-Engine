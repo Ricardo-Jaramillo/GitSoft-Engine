{
 "cells": [
  {
   "cell_type": "code",
   "execution_count": 32,
   "metadata": {},
   "outputs": [],
   "source": [
    "import bs4\n",
    "import requests"
   ]
  },
  {
   "cell_type": "code",
   "execution_count": 33,
   "metadata": {},
   "outputs": [],
   "source": [
    "def _scrap_technologies_from_GitHub(languages: list, source):\n",
    "    \"\"\"Web Scrapping to Fetch Languages used in a GitHub repository and save them in the languages input list.\n",
    "\n",
    "    Args:\n",
    "        languages: A list with empty or existing Languages values.\n",
    "        source: raw response content from HTTP Request.\n",
    "\n",
    "    Returns:\n",
    "        None\n",
    "    \"\"\"\n",
    "\n",
    "    soup = bs4.BeautifulSoup(source.text, \"html.parser\")\n",
    "    divs = soup.find_all(\"div\", class_=\"BorderGrid-row\")\n",
    "    for div in divs:\n",
    "\n",
    "        section = div.div\n",
    "        if section.h2 is not None:\n",
    "            if section.h2.text == \"Languages\":\n",
    "                # print(section.h2.text)\n",
    "                for span in section.div.span:\n",
    "\n",
    "                    if type(span) is bs4.element.Tag:\n",
    "                        languageAndPercent = span.get(\"aria-label\")\n",
    "                        # print(languageAndPercent.split()[0])\n",
    "                        languages.append(languageAndPercent.split()[0])\n",
    "                # print()\n",
    "    return None"
   ]
  },
  {
   "cell_type": "code",
   "execution_count": 34,
   "metadata": {},
   "outputs": [],
   "source": [
    "lis = []\n",
    "\n",
    "try:\n",
    "    source = requests.get('https://github.com/01miru/HomeSense'.strip())\n",
    "    if not source.ok:\n",
    "        print(source.reason)\n",
    "        print(\"There could be an error in the URL\\n\")\n",
    "    else:\n",
    "        _scrap_technologies_from_GitHub(lis, source)\n",
    "except Exception as e:\n",
    "    print(e)"
   ]
  },
  {
   "cell_type": "code",
   "execution_count": 35,
   "metadata": {},
   "outputs": [
    {
     "data": {
      "text/plain": [
       "['Swift', 'Other']"
      ]
     },
     "execution_count": 35,
     "metadata": {},
     "output_type": "execute_result"
    }
   ],
   "source": [
    "lis"
   ]
  },
  {
   "cell_type": "code",
   "execution_count": null,
   "metadata": {},
   "outputs": [],
   "source": []
  }
 ],
 "metadata": {
  "kernelspec": {
   "display_name": ".env",
   "language": "python",
   "name": "python3"
  },
  "language_info": {
   "codemirror_mode": {
    "name": "ipython",
    "version": 3
   },
   "file_extension": ".py",
   "mimetype": "text/x-python",
   "name": "python",
   "nbconvert_exporter": "python",
   "pygments_lexer": "ipython3",
   "version": "3.11.5"
  },
  "orig_nbformat": 4
 },
 "nbformat": 4,
 "nbformat_minor": 2
}
